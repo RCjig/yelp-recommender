{
 "cells": [
  {
   "cell_type": "code",
   "execution_count": 5,
   "metadata": {
    "collapsed": true
   },
   "outputs": [],
   "source": [
    "import numpy\n",
    "import urllib\n",
    "import scipy.optimize\n",
    "import random\n",
    "from collections import defaultdict\n",
    "import nltk\n",
    "import string\n",
    "from nltk.stem.porter import *\n",
    "from sklearn import linear_model\n",
    "\n",
    "def parseData(fname):\n",
    "  for l in urllib.urlopen(fname):\n",
    "    yield eval(l)\n",
    "    \n",
    "false = False\n",
    "true = True\n",
    "null = None"
   ]
  },
  {
   "cell_type": "code",
   "execution_count": 6,
   "metadata": {},
   "outputs": [
    {
     "name": "stdout",
     "output_type": "stream",
     "text": [
      "Reading data...\n",
      "done\n"
     ]
    }
   ],
   "source": [
    "print \"Reading data...\"\n",
    "businesses = list(parseData(\"business.json\"))\n",
    "reviews = list(parseData(\"review.json\"))\n",
    "users = list(parseData(\"user.json\"))\n",
    "print \"done\""
   ]
  },
  {
   "cell_type": "code",
   "execution_count": 21,
   "metadata": {
    "collapsed": true
   },
   "outputs": [],
   "source": [
    "user_visited_list = defaultdict(list)\n",
    "user_averages = defaultdict(float)\n",
    "business_visited_list = defaultdict(list)\n",
    "business_info = defaultdict(dict)\n",
    "\n",
    "for r in reviews:\n",
    "    user_visited_list[r['user_id']].append((r['business_id'], r['stars']))\n",
    "    business_visited_list[r['business_id']].append(r['user_id'])\n",
    "\n",
    "for u in users:\n",
    "    user_averages[u['user_id']] = u['average_stars']\n",
    "    \n",
    "for b in businesses:\n",
    "    business_info[b['business_id']] = b"
   ]
  },
  {
   "cell_type": "code",
   "execution_count": 8,
   "metadata": {
    "collapsed": true
   },
   "outputs": [],
   "source": [
    "def PearsonSim(user1, user2):\n",
    "    user1_set = set([b[0] for b in user_visited_list[user1]])\n",
    "    user2_set = set([b[0] for b in user_visited_list[user2]])\n",
    "    same_visits = user1_set.intersection(user2_set)\n",
    "    \n",
    "    user1_dict = defaultdict(int)\n",
    "    user2_dict = defaultdict(int)\n",
    "    for b in user_visited_list[user1]:\n",
    "        user1_dict[b[0]] = b[1]\n",
    "    for b in user_visited_list[user2]:\n",
    "        user2_dict[b[0]] = b[1]\n",
    "    \n",
    "    top = 0.0\n",
    "    bottom = 0.0\n",
    "    user1_avg = user_averages[user1]\n",
    "    user2_avg = user_averages[user2]\n",
    "    user1_bot = 0.0\n",
    "    user2_bot = 0.0\n",
    "    \n",
    "    for b in same_visits:\n",
    "        user1_score = user1_dict[b] - user1_avg\n",
    "        user2_score = user2_dict[b] - user2_avg\n",
    "        \n",
    "        top += user1_score * user2_score\n",
    "        user1_bot += user1_score**2\n",
    "        user2_bot += user2_score**2\n",
    "        \n",
    "    bottom += (user1_bot * user2_bot)**(0.5)\n",
    "    if bottom == 0:\n",
    "        return 0\n",
    "    \n",
    "    return (top * 1.0 / bottom)"
   ]
  },
  {
   "cell_type": "code",
   "execution_count": null,
   "metadata": {
    "collapsed": true
   },
   "outputs": [],
   "source": [
    "for r in reviews:\n",
    "    if len(business_visited_list[r['business_id']]) > 2:\n",
    "        score = PearsonSim(business_visited_list[r['business_id']][1], business_visited_list[r['business_id']][0])\n",
    "        if score > -1.0 and score < 1.0 and score != 0:\n",
    "            print score"
   ]
  },
  {
   "cell_type": "code",
   "execution_count": 15,
   "metadata": {},
   "outputs": [],
   "source": [
    "def recommender(user):\n",
    "    visited = [b[0] for b in user_visited_list[user]]\n",
    "    businesses = defaultdict(float)\n",
    "    return_list = []\n",
    "    \n",
    "    for v in visited:\n",
    "        for u in business_visited_list[v]:\n",
    "            if u != user:\n",
    "                score = PearsonSim(u, user)\n",
    "                for b in [x[0] for x in user_visited_list[u]]:\n",
    "                    if b not in visited:\n",
    "                        businesses[b] += score\n",
    "                        \n",
    "    for b, s in businesses.iteritems():\n",
    "        return_list.append((b, s))\n",
    "        \n",
    "    return_list.sort(key=lambda x: x[1])\n",
    "    return_list.reverse()\n",
    "    \n",
    "    return return_list"
   ]
  },
  {
   "cell_type": "code",
   "execution_count": 18,
   "metadata": {},
   "outputs": [],
   "source": [
    "visited_test = [b[0] for b in user_visited_list[users[0]['user_id']]]\n",
    "test_r = recommender(users[0]['user_id'])"
   ]
  },
  {
   "cell_type": "code",
   "execution_count": 23,
   "metadata": {},
   "outputs": [
    {
     "name": "stdout",
     "output_type": "stream",
     "text": [
      "CUT by Wolfgang Puck\n",
      "Chart House\n",
      "Vic & Anthony's Steakhouse\n",
      "Hennessey's Tavern\n",
      "Top of Binion's Steakhouse\n",
      "Grotto Ristorante\n",
      "Las Vegas Bull\n",
      "Pizza Rock\n",
      "Rao's\n",
      "Enlightened Soul Tattoo & Piercing\n",
      "Joe's Seafood Prime Steak & Stone Crab\n",
      "Fleur by Hubert Keller\n",
      "Redwood Bar and Grill\n",
      "D Grill\n"
     ]
    }
   ],
   "source": [
    "for b in visited_test:\n",
    "    print business_info[b]['name']"
   ]
  },
  {
   "cell_type": "code",
   "execution_count": 25,
   "metadata": {},
   "outputs": [
    {
     "name": "stdout",
     "output_type": "stream",
     "text": [
      "Mon Ami Gabi\n",
      "Bacchanal Buffet\n",
      "Oyster Bar\n",
      "Monta Ramen\n",
      "Rollin Smoke Barbeque\n",
      "Shake Shack\n",
      "Earl of Sandwich\n",
      "Gordon Ramsay BurGR\n",
      "Island Flavor\n",
      "JINYA Ramen Bar\n"
     ]
    }
   ],
   "source": [
    "for b in test_r[:10]:\n",
    "    print business_info[b[0]]['name']"
   ]
  }
 ],
 "metadata": {
  "kernelspec": {
   "display_name": "Python 2",
   "language": "python",
   "name": "python2"
  },
  "language_info": {
   "codemirror_mode": {
    "name": "ipython",
    "version": 2
   },
   "file_extension": ".py",
   "mimetype": "text/x-python",
   "name": "python",
   "nbconvert_exporter": "python",
   "pygments_lexer": "ipython2",
   "version": "2.7.13"
  }
 },
 "nbformat": 4,
 "nbformat_minor": 2
}
